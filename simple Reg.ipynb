{
 "cells": [
  {
   "cell_type": "code",
   "execution_count": 62,
   "metadata": {},
   "outputs": [],
   "source": [
    "import pandas as pd\n",
    "import seaborn as sb\n",
    "import matplotlib.pyplot as plt\n",
    "from sklearn.linear_model import LinearRegression as LR\n",
    "import numpy as np"
   ]
  },
  {
   "cell_type": "code",
   "execution_count": 63,
   "metadata": {},
   "outputs": [],
   "source": [
    "f=pd.read_csv('Desktop/data storage/ShanghaiPM20100101_20151231_Test - Test.csv')"
   ]
  },
  {
   "cell_type": "code",
   "execution_count": 64,
   "metadata": {},
   "outputs": [],
   "source": [
    "f=pd.DataFrame(f)"
   ]
  },
  {
   "cell_type": "code",
   "execution_count": 65,
   "metadata": {},
   "outputs": [
    {
     "data": {
      "text/html": [
       "<div>\n",
       "<style scoped>\n",
       "    .dataframe tbody tr th:only-of-type {\n",
       "        vertical-align: middle;\n",
       "    }\n",
       "\n",
       "    .dataframe tbody tr th {\n",
       "        vertical-align: top;\n",
       "    }\n",
       "\n",
       "    .dataframe thead th {\n",
       "        text-align: right;\n",
       "    }\n",
       "</style>\n",
       "<table border=\"1\" class=\"dataframe\">\n",
       "  <thead>\n",
       "    <tr style=\"text-align: right;\">\n",
       "      <th></th>\n",
       "      <th>No</th>\n",
       "      <th>year</th>\n",
       "      <th>month</th>\n",
       "      <th>day</th>\n",
       "      <th>hour</th>\n",
       "      <th>season</th>\n",
       "      <th>PM_Jingan</th>\n",
       "      <th>PM_US Post</th>\n",
       "      <th>PM_Xuhui</th>\n",
       "      <th>DEWP</th>\n",
       "      <th>HUMI</th>\n",
       "      <th>PRES</th>\n",
       "      <th>TEMP</th>\n",
       "      <th>cbwd</th>\n",
       "      <th>Iws</th>\n",
       "      <th>precipitation</th>\n",
       "      <th>Iprec</th>\n",
       "    </tr>\n",
       "  </thead>\n",
       "  <tbody>\n",
       "    <tr>\n",
       "      <th>0</th>\n",
       "      <td>52184</td>\n",
       "      <td>2015</td>\n",
       "      <td>12</td>\n",
       "      <td>15</td>\n",
       "      <td>7</td>\n",
       "      <td>4</td>\n",
       "      <td>269.0</td>\n",
       "      <td>269.0</td>\n",
       "      <td>276.0</td>\n",
       "      <td>1</td>\n",
       "      <td>70.27</td>\n",
       "      <td>1025</td>\n",
       "      <td>6</td>\n",
       "      <td>NW</td>\n",
       "      <td>176</td>\n",
       "      <td>0.0</td>\n",
       "      <td>0.0</td>\n",
       "    </tr>\n",
       "    <tr>\n",
       "      <th>1</th>\n",
       "      <td>52185</td>\n",
       "      <td>2015</td>\n",
       "      <td>12</td>\n",
       "      <td>15</td>\n",
       "      <td>8</td>\n",
       "      <td>4</td>\n",
       "      <td>261.0</td>\n",
       "      <td>251.0</td>\n",
       "      <td>271.0</td>\n",
       "      <td>0</td>\n",
       "      <td>61.01</td>\n",
       "      <td>1025</td>\n",
       "      <td>7</td>\n",
       "      <td>NW</td>\n",
       "      <td>181</td>\n",
       "      <td>0.0</td>\n",
       "      <td>0.0</td>\n",
       "    </tr>\n",
       "    <tr>\n",
       "      <th>2</th>\n",
       "      <td>52186</td>\n",
       "      <td>2015</td>\n",
       "      <td>12</td>\n",
       "      <td>15</td>\n",
       "      <td>9</td>\n",
       "      <td>4</td>\n",
       "      <td>247.0</td>\n",
       "      <td>238.0</td>\n",
       "      <td>266.0</td>\n",
       "      <td>1</td>\n",
       "      <td>61.26</td>\n",
       "      <td>1026</td>\n",
       "      <td>8</td>\n",
       "      <td>NW</td>\n",
       "      <td>184</td>\n",
       "      <td>0.0</td>\n",
       "      <td>0.0</td>\n",
       "    </tr>\n",
       "    <tr>\n",
       "      <th>3</th>\n",
       "      <td>52187</td>\n",
       "      <td>2015</td>\n",
       "      <td>12</td>\n",
       "      <td>15</td>\n",
       "      <td>10</td>\n",
       "      <td>4</td>\n",
       "      <td>236.0</td>\n",
       "      <td>224.0</td>\n",
       "      <td>243.0</td>\n",
       "      <td>1</td>\n",
       "      <td>61.26</td>\n",
       "      <td>1026</td>\n",
       "      <td>8</td>\n",
       "      <td>NW</td>\n",
       "      <td>188</td>\n",
       "      <td>0.0</td>\n",
       "      <td>0.0</td>\n",
       "    </tr>\n",
       "    <tr>\n",
       "      <th>4</th>\n",
       "      <td>52188</td>\n",
       "      <td>2015</td>\n",
       "      <td>12</td>\n",
       "      <td>15</td>\n",
       "      <td>11</td>\n",
       "      <td>4</td>\n",
       "      <td>202.0</td>\n",
       "      <td>188.0</td>\n",
       "      <td>214.0</td>\n",
       "      <td>-1</td>\n",
       "      <td>49.51</td>\n",
       "      <td>1026</td>\n",
       "      <td>9</td>\n",
       "      <td>NW</td>\n",
       "      <td>194</td>\n",
       "      <td>0.0</td>\n",
       "      <td>0.0</td>\n",
       "    </tr>\n",
       "  </tbody>\n",
       "</table>\n",
       "</div>"
      ],
      "text/plain": [
       "      No  year  month  day  hour  season  PM_Jingan  PM_US Post  PM_Xuhui  \\\n",
       "0  52184  2015     12   15     7       4      269.0       269.0     276.0   \n",
       "1  52185  2015     12   15     8       4      261.0       251.0     271.0   \n",
       "2  52186  2015     12   15     9       4      247.0       238.0     266.0   \n",
       "3  52187  2015     12   15    10       4      236.0       224.0     243.0   \n",
       "4  52188  2015     12   15    11       4      202.0       188.0     214.0   \n",
       "\n",
       "   DEWP   HUMI  PRES  TEMP cbwd  Iws  precipitation  Iprec  \n",
       "0     1  70.27  1025     6   NW  176            0.0    0.0  \n",
       "1     0  61.01  1025     7   NW  181            0.0    0.0  \n",
       "2     1  61.26  1026     8   NW  184            0.0    0.0  \n",
       "3     1  61.26  1026     8   NW  188            0.0    0.0  \n",
       "4    -1  49.51  1026     9   NW  194            0.0    0.0  "
      ]
     },
     "execution_count": 65,
     "metadata": {},
     "output_type": "execute_result"
    }
   ],
   "source": [
    "# an overview first several rows\n",
    "f.head()"
   ]
  },
  {
   "cell_type": "code",
   "execution_count": 66,
   "metadata": {},
   "outputs": [
    {
     "data": {
      "text/plain": [
       "(401, 17)"
      ]
     },
     "execution_count": 66,
     "metadata": {},
     "output_type": "execute_result"
    }
   ],
   "source": [
    "#see the size of data, isnull()?, how many observations \n",
    "f.shape"
   ]
  },
  {
   "cell_type": "code",
   "execution_count": 67,
   "metadata": {},
   "outputs": [
    {
     "name": "stdout",
     "output_type": "stream",
     "text": [
      "<class 'pandas.core.frame.DataFrame'>\n",
      "RangeIndex: 401 entries, 0 to 400\n",
      "Data columns (total 17 columns):\n",
      "No               401 non-null int64\n",
      "year             401 non-null int64\n",
      "month            401 non-null int64\n",
      "day              401 non-null int64\n",
      "hour             401 non-null int64\n",
      "season           401 non-null int64\n",
      "PM_Jingan        395 non-null float64\n",
      "PM_US Post       376 non-null float64\n",
      "PM_Xuhui         397 non-null float64\n",
      "DEWP             401 non-null int64\n",
      "HUMI             401 non-null float64\n",
      "PRES             401 non-null int64\n",
      "TEMP             401 non-null int64\n",
      "cbwd             401 non-null object\n",
      "Iws              401 non-null int64\n",
      "precipitation    257 non-null float64\n",
      "Iprec            257 non-null float64\n",
      "dtypes: float64(6), int64(10), object(1)\n",
      "memory usage: 53.3+ KB\n"
     ]
    }
   ],
   "source": [
    "u.info()"
   ]
  },
  {
   "cell_type": "code",
   "execution_count": 68,
   "metadata": {},
   "outputs": [
    {
     "data": {
      "text/html": [
       "<div>\n",
       "<style scoped>\n",
       "    .dataframe tbody tr th:only-of-type {\n",
       "        vertical-align: middle;\n",
       "    }\n",
       "\n",
       "    .dataframe tbody tr th {\n",
       "        vertical-align: top;\n",
       "    }\n",
       "\n",
       "    .dataframe thead th {\n",
       "        text-align: right;\n",
       "    }\n",
       "</style>\n",
       "<table border=\"1\" class=\"dataframe\">\n",
       "  <thead>\n",
       "    <tr style=\"text-align: right;\">\n",
       "      <th></th>\n",
       "      <th>No</th>\n",
       "      <th>year</th>\n",
       "      <th>month</th>\n",
       "      <th>day</th>\n",
       "      <th>hour</th>\n",
       "      <th>season</th>\n",
       "      <th>PM_Jingan</th>\n",
       "      <th>PM_US Post</th>\n",
       "      <th>PM_Xuhui</th>\n",
       "      <th>DEWP</th>\n",
       "      <th>HUMI</th>\n",
       "      <th>PRES</th>\n",
       "      <th>TEMP</th>\n",
       "      <th>Iws</th>\n",
       "      <th>precipitation</th>\n",
       "      <th>Iprec</th>\n",
       "    </tr>\n",
       "  </thead>\n",
       "  <tbody>\n",
       "    <tr>\n",
       "      <th>count</th>\n",
       "      <td>401.000000</td>\n",
       "      <td>401.0</td>\n",
       "      <td>401.0</td>\n",
       "      <td>401.000000</td>\n",
       "      <td>401.000000</td>\n",
       "      <td>401.0</td>\n",
       "      <td>395.000000</td>\n",
       "      <td>376.000000</td>\n",
       "      <td>397.000000</td>\n",
       "      <td>401.000000</td>\n",
       "      <td>401.000000</td>\n",
       "      <td>401.000000</td>\n",
       "      <td>401.000000</td>\n",
       "      <td>401.000000</td>\n",
       "      <td>257.000000</td>\n",
       "      <td>257.000000</td>\n",
       "    </tr>\n",
       "    <tr>\n",
       "      <th>mean</th>\n",
       "      <td>52384.000000</td>\n",
       "      <td>2015.0</td>\n",
       "      <td>12.0</td>\n",
       "      <td>23.139651</td>\n",
       "      <td>11.648379</td>\n",
       "      <td>4.0</td>\n",
       "      <td>91.734177</td>\n",
       "      <td>92.728723</td>\n",
       "      <td>94.355164</td>\n",
       "      <td>1.915212</td>\n",
       "      <td>70.098853</td>\n",
       "      <td>1028.765586</td>\n",
       "      <td>7.521197</td>\n",
       "      <td>40.855362</td>\n",
       "      <td>0.014786</td>\n",
       "      <td>0.063813</td>\n",
       "    </tr>\n",
       "    <tr>\n",
       "      <th>std</th>\n",
       "      <td>115.902977</td>\n",
       "      <td>0.0</td>\n",
       "      <td>0.0</td>\n",
       "      <td>4.831195</td>\n",
       "      <td>6.893370</td>\n",
       "      <td>0.0</td>\n",
       "      <td>64.498988</td>\n",
       "      <td>61.821600</td>\n",
       "      <td>65.834521</td>\n",
       "      <td>5.650468</td>\n",
       "      <td>18.633188</td>\n",
       "      <td>4.863118</td>\n",
       "      <td>3.242711</td>\n",
       "      <td>62.791074</td>\n",
       "      <td>0.093203</td>\n",
       "      <td>0.416334</td>\n",
       "    </tr>\n",
       "    <tr>\n",
       "      <th>min</th>\n",
       "      <td>52184.000000</td>\n",
       "      <td>2015.0</td>\n",
       "      <td>12.0</td>\n",
       "      <td>15.000000</td>\n",
       "      <td>0.000000</td>\n",
       "      <td>4.0</td>\n",
       "      <td>15.000000</td>\n",
       "      <td>21.000000</td>\n",
       "      <td>16.000000</td>\n",
       "      <td>-14.000000</td>\n",
       "      <td>22.460000</td>\n",
       "      <td>1020.000000</td>\n",
       "      <td>-1.000000</td>\n",
       "      <td>0.000000</td>\n",
       "      <td>0.000000</td>\n",
       "      <td>0.000000</td>\n",
       "    </tr>\n",
       "    <tr>\n",
       "      <th>25%</th>\n",
       "      <td>52284.000000</td>\n",
       "      <td>2015.0</td>\n",
       "      <td>12.0</td>\n",
       "      <td>19.000000</td>\n",
       "      <td>6.000000</td>\n",
       "      <td>4.0</td>\n",
       "      <td>40.000000</td>\n",
       "      <td>45.000000</td>\n",
       "      <td>43.000000</td>\n",
       "      <td>-1.000000</td>\n",
       "      <td>56.720000</td>\n",
       "      <td>1025.000000</td>\n",
       "      <td>5.000000</td>\n",
       "      <td>4.000000</td>\n",
       "      <td>0.000000</td>\n",
       "      <td>0.000000</td>\n",
       "    </tr>\n",
       "    <tr>\n",
       "      <th>50%</th>\n",
       "      <td>52384.000000</td>\n",
       "      <td>2015.0</td>\n",
       "      <td>12.0</td>\n",
       "      <td>23.000000</td>\n",
       "      <td>12.000000</td>\n",
       "      <td>4.0</td>\n",
       "      <td>65.000000</td>\n",
       "      <td>68.500000</td>\n",
       "      <td>69.000000</td>\n",
       "      <td>3.000000</td>\n",
       "      <td>71.070000</td>\n",
       "      <td>1029.000000</td>\n",
       "      <td>8.000000</td>\n",
       "      <td>13.000000</td>\n",
       "      <td>0.000000</td>\n",
       "      <td>0.000000</td>\n",
       "    </tr>\n",
       "    <tr>\n",
       "      <th>75%</th>\n",
       "      <td>52484.000000</td>\n",
       "      <td>2015.0</td>\n",
       "      <td>12.0</td>\n",
       "      <td>27.000000</td>\n",
       "      <td>18.000000</td>\n",
       "      <td>4.0</td>\n",
       "      <td>141.000000</td>\n",
       "      <td>139.000000</td>\n",
       "      <td>141.000000</td>\n",
       "      <td>6.000000</td>\n",
       "      <td>86.990000</td>\n",
       "      <td>1034.000000</td>\n",
       "      <td>10.000000</td>\n",
       "      <td>41.000000</td>\n",
       "      <td>0.000000</td>\n",
       "      <td>0.000000</td>\n",
       "    </tr>\n",
       "    <tr>\n",
       "      <th>max</th>\n",
       "      <td>52584.000000</td>\n",
       "      <td>2015.0</td>\n",
       "      <td>12.0</td>\n",
       "      <td>31.000000</td>\n",
       "      <td>23.000000</td>\n",
       "      <td>4.0</td>\n",
       "      <td>279.000000</td>\n",
       "      <td>284.000000</td>\n",
       "      <td>276.000000</td>\n",
       "      <td>12.000000</td>\n",
       "      <td>100.000000</td>\n",
       "      <td>1038.000000</td>\n",
       "      <td>16.000000</td>\n",
       "      <td>271.000000</td>\n",
       "      <td>0.900000</td>\n",
       "      <td>3.500000</td>\n",
       "    </tr>\n",
       "  </tbody>\n",
       "</table>\n",
       "</div>"
      ],
      "text/plain": [
       "                 No    year  month         day        hour  season  \\\n",
       "count    401.000000   401.0  401.0  401.000000  401.000000   401.0   \n",
       "mean   52384.000000  2015.0   12.0   23.139651   11.648379     4.0   \n",
       "std      115.902977     0.0    0.0    4.831195    6.893370     0.0   \n",
       "min    52184.000000  2015.0   12.0   15.000000    0.000000     4.0   \n",
       "25%    52284.000000  2015.0   12.0   19.000000    6.000000     4.0   \n",
       "50%    52384.000000  2015.0   12.0   23.000000   12.000000     4.0   \n",
       "75%    52484.000000  2015.0   12.0   27.000000   18.000000     4.0   \n",
       "max    52584.000000  2015.0   12.0   31.000000   23.000000     4.0   \n",
       "\n",
       "        PM_Jingan  PM_US Post    PM_Xuhui        DEWP        HUMI  \\\n",
       "count  395.000000  376.000000  397.000000  401.000000  401.000000   \n",
       "mean    91.734177   92.728723   94.355164    1.915212   70.098853   \n",
       "std     64.498988   61.821600   65.834521    5.650468   18.633188   \n",
       "min     15.000000   21.000000   16.000000  -14.000000   22.460000   \n",
       "25%     40.000000   45.000000   43.000000   -1.000000   56.720000   \n",
       "50%     65.000000   68.500000   69.000000    3.000000   71.070000   \n",
       "75%    141.000000  139.000000  141.000000    6.000000   86.990000   \n",
       "max    279.000000  284.000000  276.000000   12.000000  100.000000   \n",
       "\n",
       "              PRES        TEMP         Iws  precipitation       Iprec  \n",
       "count   401.000000  401.000000  401.000000     257.000000  257.000000  \n",
       "mean   1028.765586    7.521197   40.855362       0.014786    0.063813  \n",
       "std       4.863118    3.242711   62.791074       0.093203    0.416334  \n",
       "min    1020.000000   -1.000000    0.000000       0.000000    0.000000  \n",
       "25%    1025.000000    5.000000    4.000000       0.000000    0.000000  \n",
       "50%    1029.000000    8.000000   13.000000       0.000000    0.000000  \n",
       "75%    1034.000000   10.000000   41.000000       0.000000    0.000000  \n",
       "max    1038.000000   16.000000  271.000000       0.900000    3.500000  "
      ]
     },
     "execution_count": 68,
     "metadata": {},
     "output_type": "execute_result"
    }
   ],
   "source": [
    "# for continuous variables ( numeric V)\n",
    "f.describe()"
   ]
  },
  {
   "cell_type": "code",
   "execution_count": 69,
   "metadata": {},
   "outputs": [
    {
     "data": {
      "text/plain": [
       "min     22.46\n",
       "25%     56.72\n",
       "50%     71.07\n",
       "75%     86.99\n",
       "max    100.00\n",
       "Name: HUMI, dtype: float64"
      ]
     },
     "execution_count": 69,
     "metadata": {},
     "output_type": "execute_result"
    }
   ],
   "source": [
    "# for one variable: HUMI \n",
    "f.describe().loc['min':'max','HUMI']"
   ]
  },
  {
   "cell_type": "code",
   "execution_count": 70,
   "metadata": {},
   "outputs": [
    {
     "data": {
      "text/plain": [
       "<matplotlib.axes._subplots.AxesSubplot at 0x1a266d7940>"
      ]
     },
     "execution_count": 70,
     "metadata": {},
     "output_type": "execute_result"
    },
    {
     "data": {
      "image/png": "[encoded data removed]",
      "text/plain": [
       "<Figure size 432x288 with 1 Axes>"
      ]
     },
     "metadata": {
      "needs_background": "light"
     },
     "output_type": "display_data"
    }
   ],
   "source": [
    "#for HUMI make boxplot\n",
    "f.boxplot(column='HUMI',showmeans=True)"
   ]
  },
  {
   "cell_type": "code",
   "execution_count": 71,
   "metadata": {},
   "outputs": [
    {
     "name": "stderr",
     "output_type": "stream",
     "text": [
      "/Users/tangxinjie/anaconda3/lib/python3.7/site-packages/scipy/stats/stats.py:1713: FutureWarning: Using a non-tuple sequence for multidimensional indexing is deprecated; use `arr[tuple(seq)]` instead of `arr[seq]`. In the future this will be interpreted as an array index, `arr[np.array(seq)]`, which will result either in an error or a different result.\n",
      "  return np.add.reduce(sorted[indexer] * weights, axis=axis) / sumval\n"
     ]
    },
    {
     "data": {
      "text/plain": [
       "<matplotlib.axes._subplots.AxesSubplot at 0x1a266fd2b0>"
      ]
     },
     "execution_count": 71,
     "metadata": {},
     "output_type": "execute_result"
    },
    {
     "data": {
      "image/png": "[encoded data removed]",
      "text/plain": [
       "<Figure size 432x288 with 1 Axes>"
      ]
     },
     "metadata": {
      "needs_background": "light"
     },
     "output_type": "display_data"
    }
   ],
   "source": [
    "sb.distplot(f.HUMI)"
   ]
  },
  {
   "cell_type": "code",
   "execution_count": 72,
   "metadata": {},
   "outputs": [
    {
     "data": {
      "text/plain": [
       "<matplotlib.axes._subplots.AxesSubplot at 0x1a267c20b8>"
      ]
     },
     "execution_count": 72,
     "metadata": {},
     "output_type": "execute_result"
    },
    {
     "data": {
      "image/png": "[encoded data removed]",
      "text/plain": [
       "<Figure size 432x288 with 1 Axes>"
      ]
     },
     "metadata": {
      "needs_background": "light"
     },
     "output_type": "display_data"
    }
   ],
   "source": [
    "# for PM_Jingan\n",
    "f.boxplot(column='TEMP',showmeans=True,sym='r+')"
   ]
  },
  {
   "cell_type": "code",
   "execution_count": 73,
   "metadata": {},
   "outputs": [
    {
     "name": "stderr",
     "output_type": "stream",
     "text": [
      "/Users/tangxinjie/anaconda3/lib/python3.7/site-packages/scipy/stats/stats.py:1713: FutureWarning: Using a non-tuple sequence for multidimensional indexing is deprecated; use `arr[tuple(seq)]` instead of `arr[seq]`. In the future this will be interpreted as an array index, `arr[np.array(seq)]`, which will result either in an error or a different result.\n",
      "  return np.add.reduce(sorted[indexer] * weights, axis=axis) / sumval\n"
     ]
    },
    {
     "data": {
      "text/plain": [
       "<matplotlib.axes._subplots.AxesSubplot at 0x1a268c5198>"
      ]
     },
     "execution_count": 73,
     "metadata": {},
     "output_type": "execute_result"
    },
    {
     "data": {
      "image/png": "[encoded data removed]",
      "text/plain": [
       "<Figure size 432x288 with 1 Axes>"
      ]
     },
     "metadata": {
      "needs_background": "light"
     },
     "output_type": "display_data"
    }
   ],
   "source": [
    "sb.distplot(f.TEMP)"
   ]
  },
  {
   "cell_type": "code",
   "execution_count": 89,
   "metadata": {},
   "outputs": [],
   "source": [
    "# do simple regression for TEMP(DV) and HUMI(IV)\n",
    "X=f[['HUMI']]\n",
    "Y=f[['TEMP']]\n",
    "lr=LR()\n",
    "lr.fit(X,Y)\n",
    "Y_predict=lr.predict(X)"
   ]
  },
  {
   "cell_type": "code",
   "execution_count": 93,
   "metadata": {},
   "outputs": [
    {
     "data": {
      "image/png": "[encoded data removed]",
      "text/plain": [
       "<Figure size 432x288 with 1 Axes>"
      ]
     },
     "metadata": {
      "needs_background": "light"
     },
     "output_type": "display_data"
    }
   ],
   "source": [
    "# visual result\n",
    "plt.scatter(X,Y)\n",
    "plt.plot(X,Y_predict,color='red')\n",
    "plt.show()\n"
   ]
  },
  {
   "cell_type": "code",
   "execution_count": null,
   "metadata": {},
   "outputs": [],
   "source": []
  }
 ],
 "metadata": {
  "kernelspec": {
   "display_name": "Python 3",
   "language": "python",
   "name": "python3"
  },
  "language_info": {
   "codemirror_mode": {
    "name": "ipython",
    "version": 3
   },
   "file_extension": ".py",
   "mimetype": "text/x-python",
   "name": "python",
   "nbconvert_exporter": "python",
   "pygments_lexer": "ipython3",
   "version": "3.7.1"
  }
 },
 "nbformat": 4,
 "nbformat_minor": 2
}
